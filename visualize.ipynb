{
 "cells": [
  {
   "cell_type": "markdown",
   "metadata": {
    "id": "unbJvDNCRkWR"
   },
   "source": [
    "# IFT 6758 - Devoir 2"
   ]
  },
  {
   "cell_type": "code",
   "execution_count": 1,
   "metadata": {},
   "outputs": [],
   "source": [
    "%load_ext autoreload\n",
    "%autoreload 2"
   ]
  },
  {
   "cell_type": "markdown",
   "metadata": {
    "id": "NYfjiSBBRkkz",
    "tags": []
   },
   "source": [
    "## Question 1\n",
    "\n",
    "### a)\n",
    "Commencez par utiliser les fonctions créées dans `q1.py` pour rendre les données plus informatives et lisibles. Concrètement, remplissez les cellules suivantes :\n"
   ]
  },
  {
   "cell_type": "code",
   "execution_count": 2,
   "metadata": {},
   "outputs": [],
   "source": [
    "import pandas as pd\n",
    "import numpy as np\n",
    "import time\n",
    "import matplotlib.pyplot as plt\n",
    "import seaborn as sns\n",
    "from q1 import count_labels, convert_id, convert_ids, contains_label, get_correlation\n",
    "\n",
    "sns.set(style=\"ticks\")"
   ]
  },
  {
   "cell_type": "code",
   "execution_count": null,
   "metadata": {
    "id": "k3cbzq-MRp7Y"
   },
   "outputs": [
    {
     "name": "stdout",
     "output_type": "stream",
     "text": [
      "Index(['# YTID', 'start_seconds', 'end_seconds', 'positive_labels'], dtype='object')\n"
     ]
    }
   ],
   "source": [
    "# Charger le fichier `audio_segments.csv` dans un DataFrame `df`\n",
    "# TODO\n",
    "df = pd.read_csv(\"data/audio_segments.csv\")\n",
    "df.columns = df.columns.str.strip()\n",
    "# print(df.columns)"
   ]
  },
  {
   "cell_type": "code",
   "execution_count": null,
   "metadata": {
    "id": "TTvysi_WTL89"
   },
   "outputs": [
    {
     "name": "stdout",
     "output_type": "stream",
     "text": [
      "0      /m/068hy,/m/07q6cd_,/m/0bt9lr,/m/0jbk\n",
      "1                                   /m/03l9g\n",
      "2                                  /m/01b_21\n",
      "3    /m/04rlf,/m/09x0r,/t/dd00004,/t/dd00005\n",
      "4           /m/07rgt08,/m/07sq110,/t/dd00001\n",
      "Name: positive_labels, dtype: object\n"
     ]
    }
   ],
   "source": [
    "# Ajouter une colonne correspondant au nombre d'étiquettes appelée `label_count`\n",
    "# Ici, il y a un problème ennuyeux avec l'accès à la colonne positive_labels\n",
    "\n",
    "# TODO\n",
    "df['label_count'] = df['positive_labels'].apply(lambda x: len(x.split(',')) if pd.notna(x) else 0)\n",
    "# print(df['positive_labels'].head())"
   ]
  },
  {
   "cell_type": "code",
   "execution_count": 15,
   "metadata": {
    "id": "_0DftxCDTMHG"
   },
   "outputs": [
    {
     "name": "stdout",
     "output_type": "stream",
     "text": [
      "Time taken to add label_names column: 132.83189177513123 seconds\n"
     ]
    }
   ],
   "source": [
    "# Ajouter une nouvelle colonne appelée `label_names` avec les noms d'étiquette traités au lieu de l'ID d'étiquette\n",
    "\n",
    "# Imprimer le temps pris pour cette opération (soit en utilisant le module time ou timeit).\n",
    "# Puisque nous n'exécutons ce code qu'une fois, ce n'est pas très problématique que cela prenne quelques minutes.\n",
    "# Cependant, pour un ensemble de données plus volumineux, cela vaudrait la peine de l'accélérer\n",
    "# (par exemple en créant un dictionnaire ID -> nom une fois et en l'utilisant).\n",
    "\n",
    "# TODO \n",
    "start_time = time.time()\n",
    "df['label_names'] = df['positive_labels'].apply(lambda x: convert_ids(x) if pd.notna(x) else \"\")\n",
    "end_time = time.time()\n",
    "print(f\"Time taken to add label_names column: {end_time - start_time} seconds\")"
   ]
  },
  {
   "cell_type": "code",
   "execution_count": 16,
   "metadata": {
    "id": "ZYkS4XLuTQRC"
   },
   "outputs": [
    {
     "name": "stdout",
     "output_type": "stream",
     "text": [
      "            # YTID  start_seconds  end_seconds  \\\n",
      "0      --4gqARaEJE            0.0         10.0   \n",
      "1      --BfvyPmVMo           20.0         30.0   \n",
      "2      --U7joUcTCo            0.0         10.0   \n",
      "3      --i-y1v8Hy8            0.0          9.0   \n",
      "4      -0BIyqJj9ZU           30.0         40.0   \n",
      "...            ...            ...          ...   \n",
      "20366  zyF8TGSRvns          150.0        160.0   \n",
      "20367  zz35Va7tYmA           30.0         40.0   \n",
      "20368  zzD_oVgzKMc           30.0         40.0   \n",
      "20369  zzNdwF40ID8           70.0         80.0   \n",
      "20370  zzbTaK7CXJY           30.0         40.0   \n",
      "\n",
      "                               positive_labels  label_count  \\\n",
      "0        /m/068hy,/m/07q6cd_,/m/0bt9lr,/m/0jbk            4   \n",
      "1                                     /m/03l9g            1   \n",
      "2                                    /m/01b_21            1   \n",
      "3      /m/04rlf,/m/09x0r,/t/dd00004,/t/dd00005            4   \n",
      "4             /m/07rgt08,/m/07sq110,/t/dd00001            3   \n",
      "...                                        ...          ...   \n",
      "20366   /m/0dwsp,/m/0dwtp,/m/0f8s22,/m/0j45pbj            4   \n",
      "20367  /m/012f08,/m/07q2z82,/m/07qmpdm,/m/0k4j            4   \n",
      "20368                               /m/07pn_8q            1   \n",
      "20369                        /m/04rlf,/m/0790c            2   \n",
      "20370         /m/03m9d0z,/m/07qwyj0,/t/dd00092            3   \n",
      "\n",
      "                                             label_names  \n",
      "0               Domestic animals, pets|Squeak|Dog|Animal  \n",
      "1                                                 Hammer  \n",
      "2                                                  Cough  \n",
      "3              Music|Speech|Female singing|Child singing  \n",
      "4             Chuckle, chortle|Belly laugh|Baby laughter  \n",
      "...                                                  ...  \n",
      "20366  Marimba, xylophone|Glockenspiel|Chime|Mallet p...  \n",
      "20367  Motor vehicle (road)|Accelerating, revving, vr...  \n",
      "20368                                    Chopping (food)  \n",
      "20369                                        Music|Sonar  \n",
      "20370                Wind|Rustle|Wind noise (microphone)  \n",
      "\n",
      "[20371 rows x 6 columns]\n"
     ]
    }
   ],
   "source": [
    "# Affichez le DataFrame et enregistrez-le dans `audio_segments_clean.csv` (sans index)\n",
    "\n",
    "# TODO\n",
    "print(df)\n",
    "df.to_csv(\"audio_segments_clean.csv\", index=False)"
   ]
  },
  {
   "cell_type": "markdown",
   "metadata": {
    "id": "o6TlARA6TdKW"
   },
   "source": [
    "### b)\n",
    "\n",
    "Ensuite, à l'aide du DataFrame propre, remplissez les cellules suivantes pour mieux comprendre la distribution des étiquettes dans l'ensemble de données. Pour chaque graphique ci-dessous, assurez-vous d'inclure les **noms d'axe** appropriés et un **titre**."
   ]
  },
  {
   "cell_type": "code",
   "execution_count": 19,
   "metadata": {
    "id": "JENamq5JUeow"
   },
   "outputs": [
    {
     "data": {
      "image/png": "[encoded data removed]",
      "text/plain": [
       "<Figure size 1000x600 with 1 Axes>"
      ]
     },
     "metadata": {},
     "output_type": "display_data"
    }
   ],
   "source": [
    "# À l'aide de seaborn, créez un histogramme du nombre d'étiquettes des rangées dans le DataFrame\n",
    "# TODO\n",
    "plt.figure(figsize=(10, 6))\n",
    "sns.histplot(df['label_count'], bins=range(df['label_count'].max() + 2), kde=False)\n",
    "plt.title('Histogram of Label Counts')\n",
    "plt.xlabel('Nombre détiquettes')  \n",
    "plt.ylabel('Nombre de segments audio')\n",
    "plt.xticks(range(df['label_count'].max() + 1))  \n",
    "plt.show()"
   ]
  },
  {
   "cell_type": "markdown",
   "metadata": {},
   "source": [
    "Suivez les étapes ci-dessous pour créer un heatmap montrant la \"corrélation\" entre différentes étiquettes.\n",
    "- Plus précisément, chaque cellule de la heatmap doit correspondre à la probabilité qu'un échantillon avec l'étiquette de ligne correspondante ait également l'étiquette de colonne correspondante.\n",
    "- Considérez simplement les étiquettes [\"Piano\", \"Classical music\", \"Speech\", \"Conversation\", \"Screaming\"].\n",
    "\n",
    "Votre graphique final devrait ressembler à ceci :\n",
    "\n",
    "![alt text](images/heatmap.png \"Heatmap\")"
   ]
  },
  {
   "cell_type": "code",
   "execution_count": 22,
   "metadata": {
    "id": "yJ284gr9Uh7G"
   },
   "outputs": [
    {
     "data": {
      "image/png": "[encoded data removed]",
      "text/plain": [
       "<Figure size 800x600 with 2 Axes>"
      ]
     },
     "metadata": {},
     "output_type": "display_data"
    }
   ],
   "source": [
    "labels = [\"Piano\", \"Music\", \"Speech\", \"Conversation\", \"Screaming\"]\n",
    "\n",
    "# Il y a plusieurs façons d'aborder cela, la façon que nous recommandons ici est de construire d'abord une grille 2D où chaque\n",
    "# value est la valeur de corrélation entre la ligne/colonne correspondante à l'aide des fonctions créées dans q1.py.\n",
    "\n",
    "# TODO\n",
    "\n",
    "correlation_matrix = np.zeros((len(labels), len(labels)))\n",
    "for i, label_row in enumerate(labels):\n",
    "    for j, label_col in enumerate(labels):\n",
    "        correlation_matrix[i, j] = get_correlation(df['label_names'], label_row, label_col)\n",
    "\n",
    "        \n",
    "# Ensuite, à l'aide de sns.heatmap, créez la heatmap, en profitant de xticklabels et yticklabels pour définir les noms des étiquettes comme valeurs de graduation\n",
    "\n",
    "# TODO\n",
    "\n",
    "plt.figure(figsize=(8, 6))\n",
    "sns.heatmap(correlation_matrix, annot=False, fmt=\".2f\", xticklabels=labels, yticklabels=labels, cmap=\"Blues\")\n",
    "plt.title(\"Heatmap des corrélations entre les étiquettes\")\n",
    "plt.show()"
   ]
  },
  {
   "cell_type": "markdown",
   "metadata": {
    "id": "qBnI-CH0VGkm"
   },
   "source": [
    "## Question 2\n",
    "La question 2 n'a pas de composante notebook, remplissez simplement le fichier `q2.py`."
   ]
  },
  {
   "cell_type": "markdown",
   "metadata": {
    "id": "M6EIMwUCMmON"
   },
   "source": [
    "## Question 3\n",
    "\n",
    "Téléchargez l'audio pour les étiquettes suivantes à l'aide des fonction créées dans `q3.py`"
   ]
  },
  {
   "cell_type": "code",
   "execution_count": 23,
   "metadata": {},
   "outputs": [],
   "source": [
    "from q3 import data_pipeline, rename_files, filter_df"
   ]
  },
  {
   "cell_type": "code",
   "execution_count": null,
   "metadata": {
    "id": "q5YLBNpYMtyL"
   },
   "outputs": [],
   "source": [
    "# Téléchargez \"Cough\"\n",
    "\n",
    "# TODO\n",
    "data_pipeline(\"Cough\")\n",
    "\n",
    "\n",
    "# Renommez les fichiers pour inclure le début et fin des échantillons ainsi que la durée\n",
    "\n",
    "# TODO"
   ]
  },
  {
   "cell_type": "code",
   "execution_count": 23,
   "metadata": {
    "id": "69FxgrpCMzjs"
   },
   "outputs": [],
   "source": [
    "# Téléchargez \"Hammer\"\n",
    "\n",
    "# TODO\n",
    "\n",
    "# Renommez les fichiers pour inclure le début et fin des échantillons ainsi que la durée\n",
    "\n",
    "# TODO"
   ]
  },
  {
   "cell_type": "markdown",
   "metadata": {},
   "source": [
    "Comme vous l'avez probablement remarqué, le téléchargement de toutes ces données audio est lent (et en tant que tel, nous vous avons uniquement demandé de télécharger 2 des étiquettes). Dans de nombreux cas, il est possible d'obtenir des augmentations de performances significatives en utilisant soit le multiprocessing (https://docs.python.org/3/library/multiprocessing.html) soit le multithreading (https://docs.python.org/3/library/threading.html)  qui pourrait par exemple vous permettre de télécharger plusieurs fichiers audio en parallèle.\n",
    "\n",
    "En règle générale, utilisez le multithreading lorsque vos programmes sont bloqués par l'IO (par exemple ici) et le multiprocessing lorsqu'ils sont bloqués CPU (et utilisez ainsi tous les cores de votre CPU)."
   ]
  },
  {
   "cell_type": "markdown",
   "metadata": {
    "id": "Ier3C8okRGjp"
   },
   "source": [
    "## Question 4\n",
    "Pour les cellules suivantes, utilisez l'ID \"0GNNFBrRz1E\". Complétez les fonctions et exécutez les cellules fournies ci-dessous."
   ]
  },
  {
   "cell_type": "code",
   "execution_count": 24,
   "metadata": {},
   "outputs": [],
   "source": [
    "import librosa"
   ]
  },
  {
   "cell_type": "code",
   "execution_count": 25,
   "metadata": {
    "id": "UDG5TVBTR7yb"
   },
   "outputs": [],
   "source": [
    "# Jouez le segment audio dans le notebook en utilisant\n",
    "# https://ipython.org/ipython-doc/dev/api/generated/IPython.display.html#IPython.display.Audio\n",
    "\n",
    "# TODO"
   ]
  },
  {
   "cell_type": "markdown",
   "metadata": {
    "id": "Jb8csrLuT8ej"
   },
   "source": [
    "Une façon de visualiser l'audio consiste à utiliser des spectrogrammes mel. Brièvement, les spectrogrammes Mel convertissent l'audio en une image 2D grâce à l'utilisation de Fourier Transforms (plus de détails peuvent être trouvés ici: https://medium.com/analytics-vidhya/understanding-the-mel-spectrogram-fca2afa2ce53)."
   ]
  },
  {
   "cell_type": "code",
   "execution_count": 26,
   "metadata": {
    "id": "2NKfcwYDTQl9"
   },
   "outputs": [],
   "source": [
    "stft_hopsize = 128\n",
    "n_fft = 512\n",
    "sample_rate = 16000\n",
    "\n",
    "def to_log_scale(mel: np.ndarray) -> np.ndarray:\n",
    "    mel = np.log(mel + 1e-6)/2.0\n",
    "    return mel\n",
    "\n",
    "def create_mel_spectrogram(mp3_path: str) -> np.ndarray:\n",
    "    \"\"\" \n",
    "\n",
    "    En utilisant librosa (https://librosa.org/doc/main/generated/librosa.feature.melspectrogram.html) écrivez une fonction qui:\n",
    "    1. Charge l'audio à partir d'un mp3_path (en utilisant librosa)\n",
    "    2. Le convertit en un spectrogramme mel (en utilisant les paramètres fournis ci-dessus)\n",
    "    3. Applique la transformation d'échelle logarithmique au spectrogramme mel (fourni ci-dessus une fois de plus)\n",
    "    4. Renvoie le spectrogramme mel transformé\n",
    "\n",
    "    Assurez-vous de passer le sample rate\n",
    "    \"\"\"\n",
    "\n",
    "    # TODO  \n",
    "\n",
    "create_mel_spectrogram(\"Hammer_cut/0GNNFBrRz1E_40_50_10.mp3\")"
   ]
  },
  {
   "cell_type": "markdown",
   "metadata": {},
   "source": [
    "Les données audio peuvent également être visualisées en regardant la forme d'onde (c'est-à-dire sous la forme d'un tracé linéaire des valeurs d'amplitude). Nous combinerons les deux méthodes de visualisation ci-dessous. Le graphique résultant devrait ressembler à :\n",
    "![alt text](images/combined_plot.png \"Combined Plot\")"
   ]
  },
  {
   "cell_type": "code",
   "execution_count": 27,
   "metadata": {
    "id": "PMSzMEAfSG_N"
   },
   "outputs": [],
   "source": [
    "def plot_audio(mp3_path: str) -> None:\n",
    "    \"\"\" \n",
    "    En utilisant matplotlib et create_mel_spectrogram() écrivez une fonction qui prend un mp3_path et trace\n",
    "    à la fois la forme d'onde (graphique linéaire des amplitudes) et le spectrogramme mel côte à côte en tant que subplots.\n",
    "\n",
    "    Utilisez le mp3_path comme titre principal unique pour tout le graphique\n",
    "    \"\"\"\n",
    "\n",
    "    # TODO\n",
    "    \n",
    "\n",
    "plot_audio(\"Hammer_cut/0GNNFBrRz1E_40_50_10.mp3\")"
   ]
  }
 ],
 "metadata": {
  "colab": {
   "collapsed_sections": [],
   "provenance": []
  },
  "kernelspec": {
   "display_name": "venv (3.12.3)",
   "language": "python",
   "name": "python3"
  },
  "language_info": {
   "codemirror_mode": {
    "name": "ipython",
    "version": 3
   },
   "file_extension": ".py",
   "mimetype": "text/x-python",
   "name": "python",
   "nbconvert_exporter": "python",
   "pygments_lexer": "ipython3",
   "version": "3.12.3"
  }
 },
 "nbformat": 4,
 "nbformat_minor": 4
}
